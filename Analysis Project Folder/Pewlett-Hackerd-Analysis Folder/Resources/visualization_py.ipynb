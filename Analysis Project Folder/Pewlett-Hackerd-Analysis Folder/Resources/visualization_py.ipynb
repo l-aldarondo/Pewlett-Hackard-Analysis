{
 "cells": [
  {
   "cell_type": "code",
   "execution_count": 1,
   "id": "2a6ccc88-85a6-4206-8a6e-cbe8790c7582",
   "metadata": {},
   "outputs": [],
   "source": [
    "# Add Matplotlib inline magic command\n",
    "%matplotlib inline\n",
    "\n",
    "# %matplotlib notebook\n",
    "\n",
    "import matplotlib.pyplot as plt\n",
    "import pandas as pd\n",
    "import os\n",
    "import numpy as np"
   ]
  },
  {
   "cell_type": "code",
   "execution_count": 2,
   "id": "d8b86ffa-94dd-4776-94d5-366035005fc4",
   "metadata": {},
   "outputs": [],
   "source": [
    "retiring_titles_to_load = os.path.join(\"..\", \"retiring_titles.csv\")"
   ]
  },
  {
   "cell_type": "code",
   "execution_count": 3,
   "id": "15a228ce-aa69-44fb-b5d1-a5c0c6e7b80c",
   "metadata": {},
   "outputs": [],
   "source": [
    "retiring_titles_df = pd.read_csv(retiring_titles_to_load)"
   ]
  },
  {
   "cell_type": "code",
   "execution_count": 4,
   "id": "ee0e47ce-e7ee-491c-aefc-aa4af693cfa5",
   "metadata": {},
   "outputs": [
    {
     "data": {
      "text/html": [
       "<div>\n",
       "<style scoped>\n",
       "    .dataframe tbody tr th:only-of-type {\n",
       "        vertical-align: middle;\n",
       "    }\n",
       "\n",
       "    .dataframe tbody tr th {\n",
       "        vertical-align: top;\n",
       "    }\n",
       "\n",
       "    .dataframe thead th {\n",
       "        text-align: right;\n",
       "    }\n",
       "</style>\n",
       "<table border=\"1\" class=\"dataframe\">\n",
       "  <thead>\n",
       "    <tr style=\"text-align: right;\">\n",
       "      <th></th>\n",
       "      <th>count</th>\n",
       "      <th>title</th>\n",
       "    </tr>\n",
       "  </thead>\n",
       "  <tbody>\n",
       "    <tr>\n",
       "      <th>0</th>\n",
       "      <td>25916</td>\n",
       "      <td>Senior Engineer</td>\n",
       "    </tr>\n",
       "    <tr>\n",
       "      <th>1</th>\n",
       "      <td>24926</td>\n",
       "      <td>Senior Staff</td>\n",
       "    </tr>\n",
       "    <tr>\n",
       "      <th>2</th>\n",
       "      <td>9285</td>\n",
       "      <td>Engineer</td>\n",
       "    </tr>\n",
       "    <tr>\n",
       "      <th>3</th>\n",
       "      <td>7636</td>\n",
       "      <td>Staff</td>\n",
       "    </tr>\n",
       "    <tr>\n",
       "      <th>4</th>\n",
       "      <td>3603</td>\n",
       "      <td>Technique Leader</td>\n",
       "    </tr>\n",
       "    <tr>\n",
       "      <th>5</th>\n",
       "      <td>1090</td>\n",
       "      <td>Assistant Engineer</td>\n",
       "    </tr>\n",
       "    <tr>\n",
       "      <th>6</th>\n",
       "      <td>2</td>\n",
       "      <td>Manager</td>\n",
       "    </tr>\n",
       "  </tbody>\n",
       "</table>\n",
       "</div>"
      ],
      "text/plain": [
       "   count               title\n",
       "0  25916     Senior Engineer\n",
       "1  24926        Senior Staff\n",
       "2   9285            Engineer\n",
       "3   7636               Staff\n",
       "4   3603    Technique Leader\n",
       "5   1090  Assistant Engineer\n",
       "6      2             Manager"
      ]
     },
     "execution_count": 4,
     "metadata": {},
     "output_type": "execute_result"
    }
   ],
   "source": [
    "retiring_titles_df"
   ]
  },
  {
   "cell_type": "code",
   "execution_count": 5,
   "id": "88520d2a-8820-4930-b6ef-32479f5b2b5f",
   "metadata": {},
   "outputs": [
    {
     "data": {
      "text/html": [
       "<div>\n",
       "<style scoped>\n",
       "    .dataframe tbody tr th:only-of-type {\n",
       "        vertical-align: middle;\n",
       "    }\n",
       "\n",
       "    .dataframe tbody tr th {\n",
       "        vertical-align: top;\n",
       "    }\n",
       "\n",
       "    .dataframe thead th {\n",
       "        text-align: right;\n",
       "    }\n",
       "</style>\n",
       "<table border=\"1\" class=\"dataframe\">\n",
       "  <thead>\n",
       "    <tr style=\"text-align: right;\">\n",
       "      <th></th>\n",
       "      <th>count</th>\n",
       "    </tr>\n",
       "  </thead>\n",
       "  <tbody>\n",
       "    <tr>\n",
       "      <th>count</th>\n",
       "      <td>7.000000</td>\n",
       "    </tr>\n",
       "    <tr>\n",
       "      <th>mean</th>\n",
       "      <td>10351.142857</td>\n",
       "    </tr>\n",
       "    <tr>\n",
       "      <th>std</th>\n",
       "      <td>10813.655386</td>\n",
       "    </tr>\n",
       "    <tr>\n",
       "      <th>min</th>\n",
       "      <td>2.000000</td>\n",
       "    </tr>\n",
       "    <tr>\n",
       "      <th>25%</th>\n",
       "      <td>2346.500000</td>\n",
       "    </tr>\n",
       "    <tr>\n",
       "      <th>50%</th>\n",
       "      <td>7636.000000</td>\n",
       "    </tr>\n",
       "    <tr>\n",
       "      <th>75%</th>\n",
       "      <td>17105.500000</td>\n",
       "    </tr>\n",
       "    <tr>\n",
       "      <th>max</th>\n",
       "      <td>25916.000000</td>\n",
       "    </tr>\n",
       "  </tbody>\n",
       "</table>\n",
       "</div>"
      ],
      "text/plain": [
       "              count\n",
       "count      7.000000\n",
       "mean   10351.142857\n",
       "std    10813.655386\n",
       "min        2.000000\n",
       "25%     2346.500000\n",
       "50%     7636.000000\n",
       "75%    17105.500000\n",
       "max    25916.000000"
      ]
     },
     "execution_count": 5,
     "metadata": {},
     "output_type": "execute_result"
    }
   ],
   "source": [
    "retiring_titles_df.describe()"
   ]
  },
  {
   "cell_type": "code",
   "execution_count": 6,
   "id": "5d5e1f94-76f8-4760-8968-16363a3804a2",
   "metadata": {},
   "outputs": [
    {
     "data": {
      "text/plain": [
       "72458"
      ]
     },
     "execution_count": 6,
     "metadata": {},
     "output_type": "execute_result"
    }
   ],
   "source": [
    "retiring_titles_df.sum()['count']"
   ]
  },
  {
   "cell_type": "code",
   "execution_count": 7,
   "id": "92f37a60-b6bb-47fe-b2f2-4e748ef8030c",
   "metadata": {},
   "outputs": [
    {
     "data": {
      "image/png": "[encoded data removed]",
      "text/plain": [
       "<Figure size 720x216 with 1 Axes>"
      ]
     },
     "metadata": {
      "needs_background": "light"
     },
     "output_type": "display_data"
    }
   ],
   "source": [
    "# Create graph\n",
    "x_axis = np.arange(len(retiring_titles_df))\n",
    "tick_locations = [value for value in x_axis]\n",
    "plt.figure(figsize=(10,3))\n",
    "plt.bar(retiring_titles_df['title'], retiring_titles_df['count'])\n",
    "plt.xticks(tick_locations, retiring_titles_df['title'], rotation='vertical')\n",
    "plt.title(\"Retiring Titles\")\n",
    "plt.xlabel(\"Titles\")\n",
    "plt.ylabel(\"Retiring (Count)\")\n",
    "plt.show()"
   ]
  },
  {
   "cell_type": "code",
   "execution_count": 8,
   "id": "916e1117-e53a-4497-88ab-4eb0716c546e",
   "metadata": {},
   "outputs": [
    {
     "data": {
      "text/html": [
       "<div>\n",
       "<style scoped>\n",
       "    .dataframe tbody tr th:only-of-type {\n",
       "        vertical-align: middle;\n",
       "    }\n",
       "\n",
       "    .dataframe tbody tr th {\n",
       "        vertical-align: top;\n",
       "    }\n",
       "\n",
       "    .dataframe thead th {\n",
       "        text-align: right;\n",
       "    }\n",
       "</style>\n",
       "<table border=\"1\" class=\"dataframe\">\n",
       "  <thead>\n",
       "    <tr style=\"text-align: right;\">\n",
       "      <th></th>\n",
       "      <th>title</th>\n",
       "      <th>count</th>\n",
       "    </tr>\n",
       "  </thead>\n",
       "  <tbody>\n",
       "    <tr>\n",
       "      <th>0</th>\n",
       "      <td>Senior Engineer</td>\n",
       "      <td>25916</td>\n",
       "    </tr>\n",
       "    <tr>\n",
       "      <th>1</th>\n",
       "      <td>Senior Staff</td>\n",
       "      <td>24926</td>\n",
       "    </tr>\n",
       "    <tr>\n",
       "      <th>2</th>\n",
       "      <td>Engineer</td>\n",
       "      <td>9285</td>\n",
       "    </tr>\n",
       "    <tr>\n",
       "      <th>3</th>\n",
       "      <td>Staff</td>\n",
       "      <td>7636</td>\n",
       "    </tr>\n",
       "    <tr>\n",
       "      <th>4</th>\n",
       "      <td>Technique Leader</td>\n",
       "      <td>3603</td>\n",
       "    </tr>\n",
       "    <tr>\n",
       "      <th>5</th>\n",
       "      <td>Assistant Engineer</td>\n",
       "      <td>1090</td>\n",
       "    </tr>\n",
       "    <tr>\n",
       "      <th>6</th>\n",
       "      <td>Manager</td>\n",
       "      <td>2</td>\n",
       "    </tr>\n",
       "  </tbody>\n",
       "</table>\n",
       "</div>"
      ],
      "text/plain": [
       "                title  count\n",
       "0     Senior Engineer  25916\n",
       "1        Senior Staff  24926\n",
       "2            Engineer   9285\n",
       "3               Staff   7636\n",
       "4    Technique Leader   3603\n",
       "5  Assistant Engineer   1090\n",
       "6             Manager      2"
      ]
     },
     "execution_count": 8,
     "metadata": {},
     "output_type": "execute_result"
    }
   ],
   "source": [
    "retiring_titles_df = retiring_titles_df[['title', 'count']]\n",
    "retiring_titles_df"
   ]
  },
  {
   "cell_type": "code",
   "execution_count": 9,
   "id": "1405fdc5-4fb4-44e0-b889-0e0f9b74bfdc",
   "metadata": {},
   "outputs": [
    {
     "data": {
      "text/plain": [
       "72458"
      ]
     },
     "execution_count": 9,
     "metadata": {},
     "output_type": "execute_result"
    }
   ],
   "source": [
    "retiring_titles_df.sum()['count']"
   ]
  },
  {
   "cell_type": "code",
   "execution_count": 10,
   "id": "7ad711af-8d9f-407b-afe7-a7eb19b1b437",
   "metadata": {},
   "outputs": [
    {
     "data": {
      "image/png": "[encoded data removed]",
      "text/plain": [
       "<Figure size 432x288 with 1 Axes>"
      ]
     },
     "metadata": {},
     "output_type": "display_data"
    }
   ],
   "source": [
    "# Import Library\n",
    "import matplotlib.pyplot as plt\n",
    "from matplotlib import cm\n",
    "\n",
    "# Define coordenates\n",
    "titles = ['Senior Engineer', 'Senior Staff', 'Engineer', 'Staff', 'Technique Leader', 'Assistant Engineer', 'Manager']\n",
    "\n",
    "# Labels\n",
    "counts = [25916, 24926, 9285, 7636, 3603, 1090, 2]\n",
    "explode = (0.1, 0.0, 0.0, 0.0, 0.0, 0.0, 0.0)\n",
    "\n",
    "\n",
    "#colors\n",
    "colors = ['blue', 'green', 'yellow', 'orange', 'red', 'magenta', 'purple']\n",
    "\n",
    "# plot\n",
    "plt.pie(counts, explode=explode, labels=titles, colors=colors, autopct='%1.0f%%', shadow=True, startangle=180)\n",
    "\n",
    "# Title\n",
    "plt.title('Retiring Titles', loc='left', fontsize=15, bbox={'facecolor':'0.9', 'pad':5})      \n",
    "\n",
    "# Legend\n",
    "plt.axis('equal')\n",
    "plt.legend(labels=titles, loc=None, \n",
    "           bbox_to_anchor=(1, 1), ncol=1)\n",
    "\n",
    "# Saving as png\n",
    "plt.savefig('Pie_retiring_titles.png')\n",
    "\n",
    "# Display\n",
    "plt.show()"
   ]
  },
  {
   "cell_type": "code",
   "execution_count": 11,
   "id": "a963aa61-01d2-4cdf-a211-6a935a6c2e75",
   "metadata": {},
   "outputs": [
    {
     "data": {
      "text/plain": [
       "([<matplotlib.patches.Wedge at 0x7f9c6ea32d50>,\n",
       "  <matplotlib.patches.Wedge at 0x7f9c6e9bf510>,\n",
       "  <matplotlib.patches.Wedge at 0x7f9c6e9bfd50>,\n",
       "  <matplotlib.patches.Wedge at 0x7f9c6e9bfa50>,\n",
       "  <matplotlib.patches.Wedge at 0x7f9c6e9d1d90>,\n",
       "  <matplotlib.patches.Wedge at 0x7f9c6e9dc690>,\n",
       "  <matplotlib.patches.Wedge at 0x7f9c6e9dce90>],\n",
       " [Text(0.6485897454969143, 1.3525277601721333, 'Senior Engineer'),\n",
       "  Text(-1.4740063843964002, -0.27803808868327995, 'Senior Staff'),\n",
       "  Text(0.14817040319477923, -1.4926639044396754, 'Engineer'),\n",
       "  Text(1.1095179790248983, -1.0094403668471483, 'Staff'),\n",
       "  Text(1.4530305310927822, -0.37242754424481983, 'Technique Leader'),\n",
       "  Text(1.4983128971242496, -0.07112286770889983, 'Assistant Engineer'),\n",
       "  Text(1.4999999943601205, -0.00013007550943277158, 'Manager')],\n",
       " [Text(0.5188717963975314, 1.0820222081377067, '36%'),\n",
       "  Text(-1.1792051075171202, -0.22243047094662394, '34%'),\n",
       "  Text(0.11853632255582337, -1.1941311235517402, '13%'),\n",
       "  Text(0.8876143832199186, -0.8075522934777186, '11%'),\n",
       "  Text(1.1624244248742257, -0.2979420353958559, '5%'),\n",
       "  Text(1.1986503176993997, -0.05689829416711987, '2%'),\n",
       "  Text(1.1999999954880964, -0.00010406040754621726, '0%')])"
      ]
     },
     "execution_count": 11,
     "metadata": {},
     "output_type": "execute_result"
    },
    {
     "data": {
      "image/png": "[encoded data removed]",
      "text/plain": [
       "<Figure size 432x288 with 1 Axes>"
      ]
     },
     "metadata": {},
     "output_type": "display_data"
    }
   ],
   "source": [
    "plt.pie(counts, labels=titles, autopct='%.0f%%',pctdistance=1.2, \n",
    "        labeldistance=1.5)"
   ]
  },
  {
   "cell_type": "code",
   "execution_count": null,
   "id": "16978a60-817b-4abe-9a74-278569301250",
   "metadata": {},
   "outputs": [],
   "source": []
  },
  {
   "cell_type": "code",
   "execution_count": 12,
   "id": "8893713d-ce2e-4309-aa6d-b71f3a005a60",
   "metadata": {},
   "outputs": [
    {
     "ename": "SyntaxError",
     "evalue": "invalid syntax (264702953.py, line 25)",
     "output_type": "error",
     "traceback": [
      "\u001b[0;36m  File \u001b[0;32m\"/tmp/ipykernel_360938/264702953.py\"\u001b[0;36m, line \u001b[0;32m25\u001b[0m\n\u001b[0;31m    plt.show()\u001b[0m\n\u001b[0m      ^\u001b[0m\n\u001b[0;31mSyntaxError\u001b[0m\u001b[0;31m:\u001b[0m invalid syntax\n"
     ]
    }
   ],
   "source": [
    "import matplotlib.pyplot as plt\n",
    "from matplotlib import cm\n",
    "topic = ['Senior Engineer', 'Senior Staff', 'Engineer', 'Staff', 'Technique Leader', 'Assistant Engineer', 'Manager']\n",
    "counts = [25916, 24926, 9285, 7636, 3603, 1090, 2]\n",
    "explode = (0.1, 0.0, 0, 0, 0, 0, 0)  # only \"explode\" the 2nd slice (i.e. 'Hogs')\n",
    "cs=cm.Set1(np.arange(40)/40.)\n",
    "\n",
    "sizes = counts\n",
    "print(sizes)\n",
    "labels = list(topic)\n",
    "# makeitastring = ''.join(map(str, labels))\n",
    "print(labels)\n",
    "#colors = ['yellowgreen', 'lightgreen', 'darkgreen', 'gold', 'red', 'lightsalmon', 'darkred']\n",
    "plt.pie(sizes, explode=explode, labels=labels, colors=cs, autopct='%1.1f%%', shadow=True, startangle=90)   #line 240\n",
    "#plt.pie(sizes, labels, colors)\n",
    "plt.axis('equal')\n",
    "plt.legend(\n",
    "    loc='upper left',\n",
    "    labels=['%s, %1.1f%%' % (\n",
    "        l, (float(s) / total) * 100) for l, s in zip(labels, sizes)],\n",
    "    prop={'size': 12},\n",
    "    bbox_to_anchor=(0.0, 1),\n",
    "    bbox_transform=fig1.transFigure\n",
    "\n",
    "plt.show()"
   ]
  },
  {
   "cell_type": "code",
   "execution_count": null,
   "id": "e5f19660-b98e-4da3-92c2-26d3de81d250",
   "metadata": {},
   "outputs": [],
   "source": []
  },
  {
   "cell_type": "code",
   "execution_count": null,
   "id": "896bc7fb-be77-4eeb-adc9-45f1c1405c18",
   "metadata": {},
   "outputs": [],
   "source": [
    "sizes = Postive_percentage\n",
    "print(sizes)\n",
    "labels = list(topic)\n",
    "# makeitastring = ''.join(map(str, labels))\n",
    "print(labels)\n",
    "colors = ['yellowgreen', 'lightgreen', 'darkgreen', 'gold', 'red', 'lightsalmon', 'darkred']\n",
    "plt.pie(sizes, explode=None, labels=labels, colors=colors, autopct='%1.1f%%', shadow=True, startangle=90)   #line 240\n",
    "#plt.pie(sizes, labels, colors)\n",
    "plt.axis('equal')\n",
    "plt.legend()\n",
    "plt.show()"
   ]
  },
  {
   "cell_type": "code",
   "execution_count": null,
   "id": "111e0084-1786-4b6c-acef-e36760de6e88",
   "metadata": {},
   "outputs": [],
   "source": []
  },
  {
   "cell_type": "code",
   "execution_count": null,
   "id": "c01b50a9-cc9f-4450-b68a-f3407708ac6e",
   "metadata": {},
   "outputs": [],
   "source": []
  },
  {
   "cell_type": "code",
   "execution_count": 13,
   "id": "f38ea063-b05a-4cc0-b721-d9132a35d953",
   "metadata": {},
   "outputs": [],
   "source": [
    "mentorship_eligibilty_to_load = os.path.join(\"..\", \"mentorship_eligibilty.csv\")"
   ]
  },
  {
   "cell_type": "code",
   "execution_count": 14,
   "id": "19615374-9df1-4440-939f-fa7a0628f1ea",
   "metadata": {},
   "outputs": [],
   "source": [
    "mentorship_eligibilty_df = pd.read_csv(mentorship_eligibilty_to_load)"
   ]
  },
  {
   "cell_type": "code",
   "execution_count": 15,
   "id": "62d7785c-be1c-40ff-bd09-2ba26fca968c",
   "metadata": {},
   "outputs": [
    {
     "data": {
      "text/html": [
       "<div>\n",
       "<style scoped>\n",
       "    .dataframe tbody tr th:only-of-type {\n",
       "        vertical-align: middle;\n",
       "    }\n",
       "\n",
       "    .dataframe tbody tr th {\n",
       "        vertical-align: top;\n",
       "    }\n",
       "\n",
       "    .dataframe thead th {\n",
       "        text-align: right;\n",
       "    }\n",
       "</style>\n",
       "<table border=\"1\" class=\"dataframe\">\n",
       "  <thead>\n",
       "    <tr style=\"text-align: right;\">\n",
       "      <th></th>\n",
       "      <th>emp_no</th>\n",
       "    </tr>\n",
       "  </thead>\n",
       "  <tbody>\n",
       "    <tr>\n",
       "      <th>count</th>\n",
       "      <td>1549.000000</td>\n",
       "    </tr>\n",
       "    <tr>\n",
       "      <th>mean</th>\n",
       "      <td>256694.825048</td>\n",
       "    </tr>\n",
       "    <tr>\n",
       "      <th>std</th>\n",
       "      <td>159444.440796</td>\n",
       "    </tr>\n",
       "    <tr>\n",
       "      <th>min</th>\n",
       "      <td>10095.000000</td>\n",
       "    </tr>\n",
       "    <tr>\n",
       "      <th>25%</th>\n",
       "      <td>88647.000000</td>\n",
       "    </tr>\n",
       "    <tr>\n",
       "      <th>50%</th>\n",
       "      <td>251301.000000</td>\n",
       "    </tr>\n",
       "    <tr>\n",
       "      <th>75%</th>\n",
       "      <td>426228.000000</td>\n",
       "    </tr>\n",
       "    <tr>\n",
       "      <th>max</th>\n",
       "      <td>499495.000000</td>\n",
       "    </tr>\n",
       "  </tbody>\n",
       "</table>\n",
       "</div>"
      ],
      "text/plain": [
       "              emp_no\n",
       "count    1549.000000\n",
       "mean   256694.825048\n",
       "std    159444.440796\n",
       "min     10095.000000\n",
       "25%     88647.000000\n",
       "50%    251301.000000\n",
       "75%    426228.000000\n",
       "max    499495.000000"
      ]
     },
     "execution_count": 15,
     "metadata": {},
     "output_type": "execute_result"
    }
   ],
   "source": [
    "mentorship_eligibilty_df.describe()"
   ]
  },
  {
   "cell_type": "code",
   "execution_count": 16,
   "id": "2102816d-8b33-4e72-a196-f03787fe938c",
   "metadata": {},
   "outputs": [
    {
     "data": {
      "text/plain": [
       "1549"
      ]
     },
     "execution_count": 16,
     "metadata": {},
     "output_type": "execute_result"
    }
   ],
   "source": [
    "mentorship_eligibilty_df.count()['emp_no']"
   ]
  },
  {
   "cell_type": "code",
   "execution_count": null,
   "id": "1d15c36b-0702-4720-91fa-3507331ae720",
   "metadata": {},
   "outputs": [],
   "source": []
  },
  {
   "cell_type": "code",
   "execution_count": 17,
   "id": "f87d0d12-835b-46bc-b4de-f44381f28bf8",
   "metadata": {},
   "outputs": [
    {
     "data": {
      "text/html": [
       "<div>\n",
       "<style scoped>\n",
       "    .dataframe tbody tr th:only-of-type {\n",
       "        vertical-align: middle;\n",
       "    }\n",
       "\n",
       "    .dataframe tbody tr th {\n",
       "        vertical-align: top;\n",
       "    }\n",
       "\n",
       "    .dataframe thead th {\n",
       "        text-align: right;\n",
       "    }\n",
       "</style>\n",
       "<table border=\"1\" class=\"dataframe\">\n",
       "  <thead>\n",
       "    <tr style=\"text-align: right;\">\n",
       "      <th></th>\n",
       "      <th>count</th>\n",
       "      <th>dept_name</th>\n",
       "    </tr>\n",
       "  </thead>\n",
       "  <tbody>\n",
       "    <tr>\n",
       "      <th>0</th>\n",
       "      <td>20451</td>\n",
       "      <td>Development</td>\n",
       "    </tr>\n",
       "    <tr>\n",
       "      <th>1</th>\n",
       "      <td>17784</td>\n",
       "      <td>Production</td>\n",
       "    </tr>\n",
       "    <tr>\n",
       "      <th>2</th>\n",
       "      <td>12649</td>\n",
       "      <td>Sales</td>\n",
       "    </tr>\n",
       "    <tr>\n",
       "      <th>3</th>\n",
       "      <td>5778</td>\n",
       "      <td>Customer Service</td>\n",
       "    </tr>\n",
       "    <tr>\n",
       "      <th>4</th>\n",
       "      <td>5216</td>\n",
       "      <td>Research</td>\n",
       "    </tr>\n",
       "    <tr>\n",
       "      <th>5</th>\n",
       "      <td>4865</td>\n",
       "      <td>Quality Management</td>\n",
       "    </tr>\n",
       "    <tr>\n",
       "      <th>6</th>\n",
       "      <td>4816</td>\n",
       "      <td>Marketing</td>\n",
       "    </tr>\n",
       "    <tr>\n",
       "      <th>7</th>\n",
       "      <td>4351</td>\n",
       "      <td>Human Resources</td>\n",
       "    </tr>\n",
       "    <tr>\n",
       "      <th>8</th>\n",
       "      <td>4199</td>\n",
       "      <td>Finance</td>\n",
       "    </tr>\n",
       "  </tbody>\n",
       "</table>\n",
       "</div>"
      ],
      "text/plain": [
       "   count           dept_name\n",
       "0  20451         Development\n",
       "1  17784          Production\n",
       "2  12649               Sales\n",
       "3   5778    Customer Service\n",
       "4   5216            Research\n",
       "5   4865  Quality Management\n",
       "6   4816           Marketing\n",
       "7   4351     Human Resources\n",
       "8   4199             Finance"
      ]
     },
     "execution_count": 17,
     "metadata": {},
     "output_type": "execute_result"
    }
   ],
   "source": [
    "retiring_titles_dept_to_load = os.path.join(\"..\", \"retiring_titles_dept.csv\")\n",
    "retiring_titles_dept_df = pd.read_csv(retiring_titles_dept_to_load)\n",
    "retiring_titles_dept_df"
   ]
  },
  {
   "cell_type": "code",
   "execution_count": 18,
   "id": "c902ad2b-9184-4160-98b1-beedb10803e3",
   "metadata": {},
   "outputs": [
    {
     "data": {
      "text/html": [
       "<div>\n",
       "<style scoped>\n",
       "    .dataframe tbody tr th:only-of-type {\n",
       "        vertical-align: middle;\n",
       "    }\n",
       "\n",
       "    .dataframe tbody tr th {\n",
       "        vertical-align: top;\n",
       "    }\n",
       "\n",
       "    .dataframe thead th {\n",
       "        text-align: right;\n",
       "    }\n",
       "</style>\n",
       "<table border=\"1\" class=\"dataframe\">\n",
       "  <thead>\n",
       "    <tr style=\"text-align: right;\">\n",
       "      <th></th>\n",
       "      <th>dept_name</th>\n",
       "      <th>count</th>\n",
       "    </tr>\n",
       "  </thead>\n",
       "  <tbody>\n",
       "    <tr>\n",
       "      <th>0</th>\n",
       "      <td>Development</td>\n",
       "      <td>20451</td>\n",
       "    </tr>\n",
       "    <tr>\n",
       "      <th>1</th>\n",
       "      <td>Production</td>\n",
       "      <td>17784</td>\n",
       "    </tr>\n",
       "    <tr>\n",
       "      <th>2</th>\n",
       "      <td>Sales</td>\n",
       "      <td>12649</td>\n",
       "    </tr>\n",
       "    <tr>\n",
       "      <th>3</th>\n",
       "      <td>Customer Service</td>\n",
       "      <td>5778</td>\n",
       "    </tr>\n",
       "    <tr>\n",
       "      <th>4</th>\n",
       "      <td>Research</td>\n",
       "      <td>5216</td>\n",
       "    </tr>\n",
       "    <tr>\n",
       "      <th>5</th>\n",
       "      <td>Quality Management</td>\n",
       "      <td>4865</td>\n",
       "    </tr>\n",
       "    <tr>\n",
       "      <th>6</th>\n",
       "      <td>Marketing</td>\n",
       "      <td>4816</td>\n",
       "    </tr>\n",
       "    <tr>\n",
       "      <th>7</th>\n",
       "      <td>Human Resources</td>\n",
       "      <td>4351</td>\n",
       "    </tr>\n",
       "    <tr>\n",
       "      <th>8</th>\n",
       "      <td>Finance</td>\n",
       "      <td>4199</td>\n",
       "    </tr>\n",
       "  </tbody>\n",
       "</table>\n",
       "</div>"
      ],
      "text/plain": [
       "            dept_name  count\n",
       "0         Development  20451\n",
       "1          Production  17784\n",
       "2               Sales  12649\n",
       "3    Customer Service   5778\n",
       "4            Research   5216\n",
       "5  Quality Management   4865\n",
       "6           Marketing   4816\n",
       "7     Human Resources   4351\n",
       "8             Finance   4199"
      ]
     },
     "execution_count": 18,
     "metadata": {},
     "output_type": "execute_result"
    }
   ],
   "source": [
    "retiring_titles_dept_df = retiring_titles_dept_df[['dept_name', 'count']]\n",
    "retiring_titles_dept_df"
   ]
  },
  {
   "cell_type": "code",
   "execution_count": 19,
   "id": "65266d51-d4d2-4a37-a328-be5c795d1833",
   "metadata": {},
   "outputs": [
    {
     "data": {
      "text/html": [
       "<div>\n",
       "<style scoped>\n",
       "    .dataframe tbody tr th:only-of-type {\n",
       "        vertical-align: middle;\n",
       "    }\n",
       "\n",
       "    .dataframe tbody tr th {\n",
       "        vertical-align: top;\n",
       "    }\n",
       "\n",
       "    .dataframe thead th {\n",
       "        text-align: right;\n",
       "    }\n",
       "</style>\n",
       "<table border=\"1\" class=\"dataframe\">\n",
       "  <thead>\n",
       "    <tr style=\"text-align: right;\">\n",
       "      <th></th>\n",
       "      <th>count</th>\n",
       "      <th>dept_name</th>\n",
       "    </tr>\n",
       "  </thead>\n",
       "  <tbody>\n",
       "    <tr>\n",
       "      <th>0</th>\n",
       "      <td>20451</td>\n",
       "      <td>Development</td>\n",
       "    </tr>\n",
       "    <tr>\n",
       "      <th>1</th>\n",
       "      <td>17784</td>\n",
       "      <td>Production</td>\n",
       "    </tr>\n",
       "    <tr>\n",
       "      <th>2</th>\n",
       "      <td>12649</td>\n",
       "      <td>Sales</td>\n",
       "    </tr>\n",
       "    <tr>\n",
       "      <th>3</th>\n",
       "      <td>5778</td>\n",
       "      <td>Customer Service</td>\n",
       "    </tr>\n",
       "    <tr>\n",
       "      <th>4</th>\n",
       "      <td>5216</td>\n",
       "      <td>Research</td>\n",
       "    </tr>\n",
       "    <tr>\n",
       "      <th>5</th>\n",
       "      <td>4865</td>\n",
       "      <td>Quality Management</td>\n",
       "    </tr>\n",
       "    <tr>\n",
       "      <th>6</th>\n",
       "      <td>4816</td>\n",
       "      <td>Marketing</td>\n",
       "    </tr>\n",
       "    <tr>\n",
       "      <th>7</th>\n",
       "      <td>4351</td>\n",
       "      <td>Human Resources</td>\n",
       "    </tr>\n",
       "    <tr>\n",
       "      <th>8</th>\n",
       "      <td>4199</td>\n",
       "      <td>Finance</td>\n",
       "    </tr>\n",
       "  </tbody>\n",
       "</table>\n",
       "</div>"
      ],
      "text/plain": [
       "   count           dept_name\n",
       "0  20451         Development\n",
       "1  17784          Production\n",
       "2  12649               Sales\n",
       "3   5778    Customer Service\n",
       "4   5216            Research\n",
       "5   4865  Quality Management\n",
       "6   4816           Marketing\n",
       "7   4351     Human Resources\n",
       "8   4199             Finance"
      ]
     },
     "execution_count": 19,
     "metadata": {},
     "output_type": "execute_result"
    }
   ],
   "source": [
    "retiring_titles_dept_to_load = os.path.join(\"..\", \"retiring_titles_dept.csv\")\n",
    "retiring_titles_dept_df = pd.read_csv(retiring_titles_dept_to_load)\n",
    "retiring_titles_dept_df"
   ]
  },
  {
   "cell_type": "code",
   "execution_count": 22,
   "id": "c91f0afa-25f5-4420-a665-b42103796c84",
   "metadata": {},
   "outputs": [
    {
     "data": {
      "image/png": "[encoded data removed]",
      "text/plain": [
       "<Figure size 720x216 with 1 Axes>"
      ]
     },
     "metadata": {
      "needs_background": "light"
     },
     "output_type": "display_data"
    }
   ],
   "source": [
    "# Create graph\n",
    "x_axis = np.arange(len(retiring_titles_df))\n",
    "tick_locations = [value for value in retiring_titles_dept_df['dept_name']]\n",
    "plt.figure(figsize=(10,3))\n",
    "plt.bar(retiring_titles_dept_df['dept_name'], retiring_titles_dept_df['count'])\n",
    "plt.xticks(tick_locations, retiring_titles_dept_df['dept_name'], rotation='vertical')\n",
    "plt.title(\"Retiring Titles by Department\")\n",
    "plt.xlabel(\"Departmens\")\n",
    "plt.ylabel(\"Retiring (Count)\")\n",
    "plt.show()"
   ]
  },
  {
   "cell_type": "code",
   "execution_count": null,
   "id": "f335a4ca-dd59-44e0-957c-8ea099d72b71",
   "metadata": {},
   "outputs": [],
   "source": []
  }
 ],
 "metadata": {
  "kernelspec": {
   "display_name": "PythonData",
   "language": "python",
   "name": "pythondata"
  },
  "language_info": {
   "codemirror_mode": {
    "name": "ipython",
    "version": 3
   },
   "file_extension": ".py",
   "mimetype": "text/x-python",
   "name": "python",
   "nbconvert_exporter": "python",
   "pygments_lexer": "ipython3",
   "version": "3.7.13"
  }
 },
 "nbformat": 4,
 "nbformat_minor": 5
}
